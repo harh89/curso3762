{
  "nbformat": 4,
  "nbformat_minor": 0,
  "metadata": {
    "colab": {
      "provenance": []
    },
    "kernelspec": {
      "name": "python3",
      "display_name": "Python 3"
    },
    "language_info": {
      "name": "python"
    }
  },
  "cells": [
    {
      "cell_type": "code",
      "execution_count": null,
      "metadata": {
        "colab": {
          "base_uri": "https://localhost:8080/"
        },
        "id": "60IgB5qdz6DY",
        "outputId": "d3792dfb-3935-46fb-c9bb-d18d4f80c742"
      },
      "outputs": [
        {
          "output_type": "stream",
          "name": "stdout",
          "text": [
            "10\n"
          ]
        }
      ],
      "source": [
        "num1 = 8\n",
        "num2 = 2\n",
        "res = num1 +num2\n",
        "print(res)"
      ]
    },
    {
      "cell_type": "code",
      "source": [
        "# Default siempre capture datos de tipo str\n",
        "num1 = int(input(\"Digite el numero 1: \"))\n",
        "num2 = int(input(\"Digite el numero 2: \"))\n",
        "resul = num1 + num2\n",
        "print(\"El resultado de la suma es ={}\".format(resul))"
      ],
      "metadata": {
        "colab": {
          "base_uri": "https://localhost:8080/"
        },
        "id": "NGHu8E3O0X1Z",
        "outputId": "119434cc-6374-4938-cd7c-cb03140671ee"
      },
      "execution_count": null,
      "outputs": [
        {
          "output_type": "stream",
          "name": "stdout",
          "text": [
            "Digite el numero 1: 20\n",
            "Digite el numero 2: 50\n",
            "El resultado de la suma es =70\n"
          ]
        }
      ]
    },
    {
      "cell_type": "markdown",
      "source": [
        "CALCULADORA +-*/"
      ],
      "metadata": {
        "id": "6YtwfIcP4Cta"
      }
    },
    {
      "cell_type": "code",
      "source": [
        "num1 = int(input(\"Digite el numero 1: \"))\n",
        "num2 = int(input(\"Digite el numero 2: \"))\n",
        "\n",
        "suma = num1 + num2\n",
        "resta = num1 - num2\n",
        "multi = num1 * num2\n",
        "divi = num1 / num2\n",
        "\n",
        "print(\"\\nEl resultado de la SUMA es= {}\".format(suma))\n",
        "print(\"\\nEl resultado de la RESTA es= {}\".format(resta))\n",
        "print(f\"\\nEl resultado de la MULTIPLICACIÓN es= {multi}\")\n",
        "print(f\"\\nEl resultado de la DIVISIÓN es= {divi}\")"
      ],
      "metadata": {
        "colab": {
          "base_uri": "https://localhost:8080/"
        },
        "id": "jG44MD2C2l6j",
        "outputId": "ecf17349-b2b4-4ca1-c994-3ed62e6fdeef"
      },
      "execution_count": null,
      "outputs": [
        {
          "output_type": "stream",
          "name": "stdout",
          "text": [
            "Digite el numero 1: 10\n",
            "Digite el numero 2: 5\n",
            "\n",
            "El resultado de la SUMA es= 15\n",
            "\n",
            "El resultado de la RESTA es= 5\n",
            "\n",
            "El resultado de la MULTIPLICACIÓN es= 50\n",
            "\n",
            "El resultado de la DIVISIÓN es= 2.0\n"
          ]
        }
      ]
    },
    {
      "cell_type": "markdown",
      "source": [
        "Una tienda ofrece un descuento del 15% sobre el total\n",
        "de la compra y un cliente desea saber cuánto deberá\n",
        "pagar finalmente por su compra.\n",
        "\n",
        "\n"
      ],
      "metadata": {
        "id": "gn0IS-q3Vg5f"
      }
    },
    {
      "cell_type": "code",
      "source": [
        "venta = float(input(\"¿total de la compra?: $\"))\n",
        "\n",
        "iva = venta * 0.19\n",
        "total = venta + iva\n",
        "descuento = total * 15 / 100\n",
        "total_de_la_venta = total - descuento\n",
        "\n",
        "print(\"El IVA es = ${:,.0f};  el total a pagar es= ${:,.0f}; el  descuento= ${:,.0f} y el total a pagar es el= ${:,.0f}\".format(iva, total,descuento,total_de_la_venta))"
      ],
      "metadata": {
        "colab": {
          "base_uri": "https://localhost:8080/"
        },
        "id": "KtysJTAOVosA",
        "outputId": "0f557624-989d-4e9e-a654-a9f8b756b59b"
      },
      "execution_count": null,
      "outputs": [
        {
          "output_type": "stream",
          "name": "stdout",
          "text": [
            "¿total de la compra?: $1000000\n",
            "El IVA es = $190,000;  el total a pagar es= $1,190,000; el  descuento= $178,500 y el total a pagar es el= $1,011,500\n"
          ]
        }
      ]
    },
    {
      "cell_type": "markdown",
      "source": [
        "Un alumno desea saber cuál será su calificación final en\n",
        "la materia de Algoritmos. Dicha calificación se compone\n",
        "de tres exámenes parciales.\n"
      ],
      "metadata": {
        "id": "uOYa0pxSbhno"
      }
    },
    {
      "cell_type": "code",
      "source": [
        "nota1 = float(input(\"Digite  nota 1: \"))\n",
        "nota2 = float(input(\"Digite  nota 2: \"))\n",
        "nota3 = float(input(\"Digite  nota 3: \"))\n",
        "\n",
        "suma = (nota1 + nota2 + nota3)/3\n",
        "\n",
        "print(\"Su nota final es \", suma)"
      ],
      "metadata": {
        "colab": {
          "base_uri": "https://localhost:8080/"
        },
        "id": "gdB6uuSYbphS",
        "outputId": "a50024c1-ef95-411f-90fa-bbe71b6d998c"
      },
      "execution_count": null,
      "outputs": [
        {
          "output_type": "stream",
          "name": "stdout",
          "text": [
            "Digite  nota 1: 4.2\n",
            "Digite  nota 2: 3.7\n",
            "Digite  nota 3: 4.7\n",
            "Su nota final es  4.2\n"
          ]
        }
      ]
    },
    {
      "cell_type": "markdown",
      "source": [
        "Un maestro desea saber qué porcentaje de hombres y que\n",
        "porcentaje de mujeres hay en un grupo de estudiantes."
      ],
      "metadata": {
        "id": "KXTUGnX9h_u-"
      }
    },
    {
      "cell_type": "code",
      "source": [
        "total personas1 = int(input(\"Digite el total personas 1: \"))\n",
        "mujeres2 = int(input(\"Digite el mujeres 2: \"))\n",
        "hombres3 = int(input(\"Digite el hombres 3: \"))"
      ],
      "metadata": {
        "id": "OwPJKZxtiBAG"
      },
      "execution_count": null,
      "outputs": []
    }
  ]
}