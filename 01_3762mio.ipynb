{
  "nbformat": 4,
  "nbformat_minor": 0,
  "metadata": {
    "colab": {
      "provenance": []
    },
    "kernelspec": {
      "name": "python3",
      "display_name": "Python 3"
    },
    "language_info": {
      "name": "python"
    }
  },
  "cells": [
    {
      "cell_type": "code",
      "execution_count": null,
      "metadata": {
        "colab": {
          "base_uri": "https://localhost:8080/"
        },
        "id": "c63IZx3Pso23",
        "outputId": "0f47e0b6-fd4c-4733-e322-b23507c05cd9"
      },
      "outputs": [
        {
          "output_type": "stream",
          "name": "stdout",
          "text": [
            "hola mundo!!!\n"
          ]
        }
      ],
      "source": [
        "print(\"hola mundo!!!\")"
      ]
    },
    {
      "cell_type": "code",
      "source": [
        "nombreP = \"Hugo Rincon\"\n",
        "print (nombreP)"
      ],
      "metadata": {
        "id": "hEsktddyuEJ2",
        "colab": {
          "base_uri": "https://localhost:8080/"
        },
        "outputId": "75d317a5-847c-46ed-87ed-744c6cba95aa"
      },
      "execution_count": null,
      "outputs": [
        {
          "output_type": "stream",
          "name": "stdout",
          "text": [
            "Hugo Rincon\n"
          ]
        }
      ]
    },
    {
      "cell_type": "code",
      "source": [
        "Edad = 2\n",
        "print(Edad)\n",
        "Edad = \"Martina\"\n",
        "print(Edad)"
      ],
      "metadata": {
        "colab": {
          "base_uri": "https://localhost:8080/"
        },
        "id": "TccDmA2o0PmQ",
        "outputId": "c87fc095-b4e9-4a74-8884-d58468c3bedd"
      },
      "execution_count": null,
      "outputs": [
        {
          "output_type": "stream",
          "name": "stdout",
          "text": [
            "2\n",
            "Martina\n"
          ]
        }
      ]
    },
    {
      "cell_type": "code",
      "source": [
        "val = True\n",
        "print(val)"
      ],
      "metadata": {
        "colab": {
          "base_uri": "https://localhost:8080/"
        },
        "id": "EAv6K10Z0rKC",
        "outputId": "19e3ff69-99eb-4101-b98d-98ddefb31afb"
      },
      "execution_count": null,
      "outputs": [
        {
          "output_type": "stream",
          "name": "stdout",
          "text": [
            "True\n"
          ]
        }
      ]
    },
    {
      "cell_type": "code",
      "source": [
        "nombre = \"Valeria\"\n",
        "apellido = \"Rincon\"\n",
        "print(nombre + \" \" + apellido)"
      ],
      "metadata": {
        "colab": {
          "base_uri": "https://localhost:8080/"
        },
        "id": "W95a_4OQ00KZ",
        "outputId": "090c8b1a-b2d8-4e4d-b565-ac93d3366c2a"
      },
      "execution_count": null,
      "outputs": [
        {
          "output_type": "stream",
          "name": "stdout",
          "text": [
            "Valeria Rincon\n"
          ]
        }
      ]
    },
    {
      "cell_type": "code",
      "source": [
        "No_de_Identificacion = \"C.c.93412415\"\n",
        "print(No_de_Identificacion)\n",
        "nombre = \"Hugo Andres\"\n",
        "apellido = \"Rincon Hernandez\"\n",
        "print(nombre + \" \" + apellido)\n",
        "direccion = \"Tranversal 72f No 43-59 Sur\"\n",
        "print(direccion)\n",
        "telefono =  \"Celular 320 949 2869\"\n",
        "print(telefono)\n",
        "edad = \"43 Años\"\n",
        "print(edad)\n",
        "estado_civil = \"Union Libre\"\n",
        "print(estado_civil)\n",
        "No_hijos = \"3 Hijos\"\n",
        "print(No_hijos)\n",
        "Estatura = \"Altura 1,68cm\"\n",
        "print(Estatura)\n",
        "fecha_de_contratacion = \"Fecha_C 10/06/2010\"\n",
        "print(fecha_de_contratacion)\n",
        "sueldo_basico = \"Sueldo $1.500.000\"\n",
        "print(sueldo_basico)\n",
        "Dias_laborados = \"5 dias ala semana\"\n",
        "print(Dias_laborados)"
      ],
      "metadata": {
        "colab": {
          "base_uri": "https://localhost:8080/"
        },
        "id": "eIjcyh-o2xzZ",
        "outputId": "5f1667d3-f4f6-483f-e768-5e98e4b0d02a"
      },
      "execution_count": null,
      "outputs": [
        {
          "output_type": "stream",
          "name": "stdout",
          "text": [
            "C.c.93412415\n",
            "Hugo Andres Rincon Hernandez\n",
            "Tranversal 72f No 43-59 Sur\n",
            "Celular 320 949 2869\n",
            "43 Años\n",
            "Union Libre\n",
            "3 Hijos\n",
            "Altura 1,68cm\n",
            "Fecha_C 10/06/2010\n",
            "Sueldo $1.500.000\n",
            "5 dias ala semana\n"
          ]
        }
      ]
    }
  ]
}